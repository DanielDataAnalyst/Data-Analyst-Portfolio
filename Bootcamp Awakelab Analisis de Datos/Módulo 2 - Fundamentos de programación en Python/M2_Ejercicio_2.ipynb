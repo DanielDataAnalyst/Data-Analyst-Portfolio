{
 "cells": [
  {
   "cell_type": "markdown",
   "metadata": {
    "id": "JOMaWfxr5glR"
   },
   "source": [
    "1. Escribir un programa que almacene la cadena ¡Hola Mundo! en una variable y luego muestre por pantalla el contenido de la variable."
   ]
  },
  {
   "cell_type": "code",
   "execution_count": 1,
   "metadata": {
    "colab": {
     "base_uri": "https://localhost:8080/"
    },
    "id": "R_dcMcJS5io7",
    "outputId": "70e499da-5372-4b14-a90c-4635f46139f5"
   },
   "outputs": [
    {
     "name": "stdout",
     "output_type": "stream",
     "text": [
      "¡Hola Mundo!\n"
     ]
    }
   ],
   "source": [
    "a = \"¡Hola Mundo!\"\n",
    "print(a)"
   ]
  },
  {
   "cell_type": "markdown",
   "metadata": {
    "id": "MJ28os0A52le"
   },
   "source": [
    "2. Escribir un programa que pregunte el nombre del usuario en la consola y después de que el usuario lo introduzca muestre por pantalla la cadena ¡Hola nombre!, donde nombre es el nombre que el usuario haya introducido."
   ]
  },
  {
   "cell_type": "code",
   "execution_count": 3,
   "metadata": {
    "colab": {
     "base_uri": "https://localhost:8080/"
    },
    "id": "DqEWptJv54xN",
    "outputId": "a6f97eac-2db4-4878-a8e7-5e1c2810bcab"
   },
   "outputs": [
    {
     "name": "stdout",
     "output_type": "stream",
     "text": [
      "Introduzca su nombre: Daniel\n",
      "¡Hola Daniel!\n"
     ]
    }
   ],
   "source": [
    "name = input(\"Introduzca su nombre: \")\n",
    "\n",
    "print(f\"¡Hola {name}!\")"
   ]
  },
  {
   "cell_type": "markdown",
   "metadata": {
    "id": "G1k-0rzi6Qwm"
   },
   "source": [
    "3. Escribir un programa que pregunte al usuario por el número de horas trabajadas y el coste por hora. Después debe mostrar por pantalla la paga que le corresponde."
   ]
  },
  {
   "cell_type": "code",
   "execution_count": 6,
   "metadata": {
    "colab": {
     "base_uri": "https://localhost:8080/"
    },
    "id": "QqP04KjQ6UZX",
    "outputId": "c9e3ebee-3b01-4e53-933c-4ced4fc0690c"
   },
   "outputs": [
    {
     "name": "stdout",
     "output_type": "stream",
     "text": [
      "Introduzca el número de horas trabajadas: 52.3\n",
      "Introduzca el coste por hora trabajada: 3.2\n",
      "Le corresponde un pago de 167.36 $\n"
     ]
    }
   ],
   "source": [
    "horas_trabajadas = float(input(\"Introduzca el número de horas trabajadas: \"))\n",
    "coste_hora = float(input(\"Introduzca el coste por hora trabajada: \"))\n",
    "\n",
    "print(f\"Le corresponde un pago de {round(horas_trabajadas*coste_hora,2)} $\")"
   ]
  },
  {
   "cell_type": "markdown",
   "metadata": {
    "id": "tEWLhsju7qRQ"
   },
   "source": [
    "4. Una panadería vende el pan a $1200 cada Kg. El pan que no es el día tiene un descuento del 60%. Escribe un programa que comience leyendo el número de Kilos vendidos que no son del día. Después tu programa debe mostrar el precio habitual del kilo de pan, el descuento que se le hace por no ser fresco y el costo final total."
   ]
  },
  {
   "cell_type": "code",
   "execution_count": 23,
   "metadata": {
    "colab": {
     "base_uri": "https://localhost:8080/"
    },
    "id": "0SDISbod7vI2",
    "outputId": "f8e128d9-dbe9-4276-ad52-faf72f17c4fe"
   },
   "outputs": [
    {
     "name": "stdout",
     "output_type": "stream",
     "text": [
      "Introduzca la cantidad de kilos vendidos que no son del dia: 45\n",
      "\n",
      "Fueron vendidos 45.0 kg de pan que no son del dia.\n",
      "El precio total de estos kg si fueran frescos seria de 54000.0 $.\n",
      "Por ser panes del dia anterior se le aplico un descuento total de 32400.0 $.\n",
      "El total por la venta del producto con descuento aplicado es de 21600.0 $\n"
     ]
    }
   ],
   "source": [
    "kg_otro_dia = float(input(\"Introduzca la cantidad de kilos vendidos que no son del dia: \"))\n",
    "precio_pan_kg =  1200\n",
    "\n",
    "print(f\"\\nFueron vendidos {kg_otro_dia} kg de pan que no son del dia.\")\n",
    "print(f\"El precio total de estos kg si fueran frescos seria de {precio_pan_kg*kg_otro_dia} $.\")\n",
    "print(f\"Por ser panes del dia anterior se le aplico un descuento total de {precio_pan_kg*kg_otro_dia*0.6} $.\")\n",
    "print(f\"El total por la venta del producto con descuento aplicado es de {precio_pan_kg*kg_otro_dia*0.4} $\")"
   ]
  },
  {
   "cell_type": "markdown",
   "metadata": {
    "id": "wMR2shJv9DB3"
   },
   "source": [
    "5. Dado el sueldo de un trabajador, aplique un aumento del 15% si su sueldo es inferior a $200.000. Imprima el resultado."
   ]
  },
  {
   "cell_type": "code",
   "execution_count": 34,
   "metadata": {
    "colab": {
     "base_uri": "https://localhost:8080/"
    },
    "id": "I9VaWXlv9EUY",
    "outputId": "75aa2ebb-1939-408f-da33-b5e8da792e64"
   },
   "outputs": [
    {
     "name": "stdout",
     "output_type": "stream",
     "text": [
      "Introduzca el sueldo: 180000\n",
      "El sueldo del trabajador es de 207000.0\n"
     ]
    }
   ],
   "source": [
    "sueldo_trabajador = float(input(\"Introduzca el sueldo: \"))\n",
    "\n",
    "# Bloque de control de errores\n",
    "if sueldo_trabajador < 0:\n",
    "  raise Exception(\"El sueldo no puede tomar valores menores a 0\")\n",
    "\n",
    "#Bloque de condicion\n",
    "if sueldo_trabajador < 200000:\n",
    "  print(f\"El sueldo del trabajador es de {round(sueldo_trabajador*1.15,1)}\")\n",
    "else:\n",
    "  print(f\"El sueldo del trabajador es de {sueldo_trabajador}\")\n",
    "  "
   ]
  },
  {
   "cell_type": "markdown",
   "metadata": {
    "id": "tIImcsBl9FrY"
   },
   "source": [
    "6. Desarrolle un algoritmo para determinar si un año leído por teclado es o no bisiesto."
   ]
  },
  {
   "cell_type": "code",
   "execution_count": 86,
   "metadata": {
    "colab": {
     "base_uri": "https://localhost:8080/"
    },
    "id": "Os-iEolnacoH",
    "outputId": "ecc60435-186c-4643-c5fc-48097befefdd"
   },
   "outputs": [
    {
     "name": "stdout",
     "output_type": "stream",
     "text": [
      "Introduzca el año: 1500\n",
      "El año 1500 NO es bisiesto\n"
     ]
    }
   ],
   "source": [
    "year = int(input(\"Introduzca el año: \"))\n",
    "\n",
    "if (year % 4 == 0 and year % 100 != 0) or (year % 4 == 0 and year % 100 == 0 and year % 400 == 0):\n",
    "  print(f\"El año {year} es bisiesto\")\n",
    "else:\n",
    "  print(f\"El año {year} NO es bisiesto\")\n",
    "      "
   ]
  },
  {
   "cell_type": "markdown",
   "metadata": {
    "id": "KsK7z4-h9Mt5"
   },
   "source": [
    "7. Desarrolle un algoritmo que dado dos números “a” y “b”, muestre sus valores en orden de menor a mayor."
   ]
  },
  {
   "cell_type": "code",
   "execution_count": 93,
   "metadata": {
    "id": "q8CjJo9H9Nm9"
   },
   "outputs": [],
   "source": [
    "def order(a,b):\n",
    "\n",
    "  if a > b:\n",
    "    print(b,\",\",a)\n",
    "  else:\n",
    "    print(a,\",\",b)"
   ]
  },
  {
   "cell_type": "code",
   "execution_count": 95,
   "metadata": {
    "colab": {
     "base_uri": "https://localhost:8080/"
    },
    "id": "viY7fJbNdOJW",
    "outputId": "1504c84c-4449-4174-fd05-2e0c148ba627"
   },
   "outputs": [
    {
     "name": "stdout",
     "output_type": "stream",
     "text": [
      "20 , 50\n"
     ]
    }
   ],
   "source": [
    "order(50,20)"
   ]
  },
  {
   "cell_type": "markdown",
   "metadata": {
    "id": "Ral9Dw249RL-"
   },
   "source": [
    "8. Se coloca un capital C, a un interés I (que oscila entre 0 y 100), durante M años y se desea saber en cuánto se habrá convertido ese capital en “M” años, sabiendo que es acumulativo"
   ]
  },
  {
   "cell_type": "code",
   "execution_count": 111,
   "metadata": {
    "id": "Ipm0Cl_Y9SI-"
   },
   "outputs": [],
   "source": [
    "def capital_acumulado(C, I, M):\n",
    "  \"\"\"\n",
    "  Args:\n",
    "  C: Capital inicial\n",
    "  I: interes (0-100%)\n",
    "  M: cantidad de años\n",
    "\n",
    "  Resultado:\n",
    "  CA: Capital acumulado \n",
    "  \"\"\"\n",
    "\n",
    "  CA = int(C*((1+(I/100))**M))\n",
    "  print(f\"Depositando {C} $ con un interes del {I} % en un periodo de {M} años se convertira en {CA} $\")"
   ]
  },
  {
   "cell_type": "code",
   "execution_count": 112,
   "metadata": {
    "colab": {
     "base_uri": "https://localhost:8080/"
    },
    "id": "f_1nDat8fnpw",
    "outputId": "6a332dcc-dd3f-43dd-e553-297cbefad114"
   },
   "outputs": [
    {
     "name": "stdout",
     "output_type": "stream",
     "text": [
      "Depositando 1000000 $ con un interes del 10 % en un periodo de 5 años se convertira en 1610510 $\n"
     ]
    }
   ],
   "source": [
    "capital_acumulado(1000000, 10, 5)"
   ]
  },
  {
   "cell_type": "markdown",
   "metadata": {
    "id": "-J-PBaMa9Sq-"
   },
   "source": [
    "9. Calcular la suma de los divisores de cada número introducido por teclado. Terminaremos cuando el número ingresado sea negativo."
   ]
  },
  {
   "cell_type": "code",
   "execution_count": 125,
   "metadata": {
    "colab": {
     "base_uri": "https://localhost:8080/"
    },
    "id": "mdehNnVr9U18",
    "outputId": "2dd64406-510d-4d9c-f787-ae42164dbeb1"
   },
   "outputs": [
    {
     "name": "stdout",
     "output_type": "stream",
     "text": [
      "Introduzca un numero por teclado: 50\n",
      "La suma de los divisores de 50 es de 93\n",
      "Introduzca un numero por teclado: 89\n",
      "La suma de los divisores de 89 es de 90\n",
      "Introduzca un numero por teclado: 10\n",
      "La suma de los divisores de 10 es de 18\n",
      "Introduzca un numero por teclado: -9\n",
      "La suma de los divisores de -9 es de 0\n"
     ]
    }
   ],
   "source": [
    "number = 0\n",
    "\n",
    "while number >= 0:\n",
    "  sum_divisor = 0\n",
    "  number =  int(input(\"Introduzca un numero por teclado: \"))\n",
    "  for i in range(number):\n",
    "    if number % (i+1) == 0:\n",
    "      sum_divisor += (i+1)\n",
    "  print(f\"La suma de los divisores de {number} es de {sum_divisor}\")\n",
    "  "
   ]
  }
 ],
 "metadata": {
  "colab": {
   "provenance": []
  },
  "kernelspec": {
   "display_name": "Python 3",
   "language": "python",
   "name": "python3"
  },
  "language_info": {
   "codemirror_mode": {
    "name": "ipython",
    "version": 3
   },
   "file_extension": ".py",
   "mimetype": "text/x-python",
   "name": "python",
   "nbconvert_exporter": "python",
   "pygments_lexer": "ipython3",
   "version": "3.8.3"
  }
 },
 "nbformat": 4,
 "nbformat_minor": 1
}
