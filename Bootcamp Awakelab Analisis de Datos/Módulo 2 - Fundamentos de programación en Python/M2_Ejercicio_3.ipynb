{
  "cells": [
    {
      "cell_type": "markdown",
      "metadata": {
        "id": "LQ6TiAwdbsQP"
      },
      "source": [
        "1. Desarrolle un programa que pida la anchura y altura de un rectángulo y lo dibuje con caracteres producto (*)"
      ]
    },
    {
      "cell_type": "code",
      "execution_count": null,
      "metadata": {
        "scrolled": true,
        "id": "5jwEV7HxbsQm",
        "outputId": "cc85990c-dfdf-4cf9-d930-e6305bffb4e8"
      },
      "outputs": [
        {
          "name": "stdout",
          "output_type": "stream",
          "text": [
            "Introduzca el ancho del rectangulo: 5\n",
            "Introduzca el alto del rectangulo: 6\n",
            "*****\n",
            "*****\n",
            "*****\n",
            "*****\n",
            "*****\n",
            "*****\n"
          ]
        }
      ],
      "source": [
        "ancho = int(input(\"Introduzca el ancho del rectangulo: \"))\n",
        "alto = int(input(\"Introduzca el alto del rectangulo: \"))\n",
        "\n",
        "for i in range(alto): \n",
        "    print(ancho*\"*\")"
      ]
    },
    {
      "cell_type": "markdown",
      "metadata": {
        "id": "FhxJQmJ9bsT_"
      },
      "source": [
        "2. Escriba un programa que pida dos años y escriba cuántos años bisiestos hay entre esas dos fechas (incluidos los dos años):"
      ]
    },
    {
      "cell_type": "code",
      "execution_count": null,
      "metadata": {
        "id": "ukT_zjMjbsUB",
        "outputId": "4e02ab82-1294-4e61-8385-6bd605429846"
      },
      "outputs": [
        {
          "name": "stdout",
          "output_type": "stream",
          "text": [
            "Introduzca el primer año: 1900\n",
            "Introduzca el segundo año: 2000\n",
            "Entre 1900 y 2000 hay 25 años bisiestos\n"
          ]
        }
      ],
      "source": [
        "year1 = int(input(\"Introduzca el primer año: \"))\n",
        "year2 = int(input(\"Introduzca el segundo año: \"))\n",
        "count = 0\n",
        "\n",
        "for year in range(year1, (year2+1), 1):\n",
        "    if (year % 4 == 0 and year % 100 != 0) or (year % 4 == 0 and year % 100 == 0 and year % 400 == 0):\n",
        "        count += 1\n",
        "\n",
        "print(f\"Entre {year1} y {year2} hay {count} años bisiestos\")"
      ]
    },
    {
      "cell_type": "markdown",
      "metadata": {
        "id": "NRG--BqxbsUE"
      },
      "source": [
        "3. Escriba una función que muestre por pantalla el resultado de multiplicar un número por 10"
      ]
    },
    {
      "cell_type": "code",
      "execution_count": null,
      "metadata": {
        "id": "-JKfMEzsbsUF"
      },
      "outputs": [],
      "source": [
        "def multiplicar_10(numero):\n",
        "    mult_10 = numero*10\n",
        "    return mult_10"
      ]
    },
    {
      "cell_type": "code",
      "execution_count": null,
      "metadata": {
        "id": "QbyiFy9ebsUI",
        "outputId": "015b07ab-407b-4368-cb71-20f1d265df04"
      },
      "outputs": [
        {
          "data": {
            "text/plain": [
              "560"
            ]
          },
          "execution_count": 24,
          "metadata": {},
          "output_type": "execute_result"
        }
      ],
      "source": [
        "multiplicar_10(56)"
      ]
    },
    {
      "cell_type": "markdown",
      "metadata": {
        "id": "mMMXP4UgbsUJ"
      },
      "source": [
        "4. Escriba función que devuelva si el número es par(true) o impar(false)."
      ]
    },
    {
      "cell_type": "code",
      "execution_count": null,
      "metadata": {
        "id": "_FKqjwC0bsUV"
      },
      "outputs": [],
      "source": [
        "def paridad(numero):\n",
        "    if numero % 2 == 0:\n",
        "        return True\n",
        "    else:\n",
        "        return False"
      ]
    },
    {
      "cell_type": "code",
      "execution_count": null,
      "metadata": {
        "id": "gOp9F8P0bsUX",
        "outputId": "cf2f5721-b0c8-4a97-a9bd-a650c488a0ee"
      },
      "outputs": [
        {
          "data": {
            "text/plain": [
              "False"
            ]
          },
          "execution_count": 28,
          "metadata": {},
          "output_type": "execute_result"
        }
      ],
      "source": [
        "paridad(464651)"
      ]
    },
    {
      "cell_type": "markdown",
      "metadata": {
        "id": "pR8ziTaYbsU4"
      },
      "source": [
        "5. Escribir una función sum() y una función multip() que sumen y multipliquen respectivamente todos los números de una lista. Por ejemplo: sum([1,2,3,4]) debería devolver 10 y multip([1,2,3,4]) debería devolver 24."
      ]
    },
    {
      "cell_type": "code",
      "execution_count": null,
      "metadata": {
        "id": "jK0BkNC6bsVi"
      },
      "outputs": [],
      "source": [
        "from functools import reduce\n",
        "\n",
        "nums = [1,2,3,4,5,6]"
      ]
    },
    {
      "cell_type": "code",
      "execution_count": null,
      "metadata": {
        "id": "tVvngE7absVq"
      },
      "outputs": [],
      "source": [
        "def sum(numeros):\n",
        "    return reduce(lambda x, y: x+y, numeros) "
      ]
    },
    {
      "cell_type": "code",
      "execution_count": null,
      "metadata": {
        "id": "zNO-xNLtbsVr"
      },
      "outputs": [],
      "source": [
        "def multip(numeros):\n",
        "    return reduce(lambda x, y: x*y, numeros) "
      ]
    },
    {
      "cell_type": "code",
      "execution_count": null,
      "metadata": {
        "id": "tyDsVb0nbsVt",
        "outputId": "8c356034-5ab3-4f1c-b2d1-f119f9e4de20"
      },
      "outputs": [
        {
          "data": {
            "text/plain": [
              "21"
            ]
          },
          "execution_count": 56,
          "metadata": {},
          "output_type": "execute_result"
        }
      ],
      "source": [
        "sum(nums)"
      ]
    },
    {
      "cell_type": "code",
      "execution_count": null,
      "metadata": {
        "id": "z7oR04sKbsVx",
        "outputId": "1687f17b-7ca3-4de5-e971-27530c3ce8ff"
      },
      "outputs": [
        {
          "data": {
            "text/plain": [
              "720"
            ]
          },
          "execution_count": 57,
          "metadata": {},
          "output_type": "execute_result"
        }
      ],
      "source": [
        "multip(nums)"
      ]
    },
    {
      "cell_type": "markdown",
      "metadata": {
        "id": "Ulov3kptbsVy"
      },
      "source": [
        "6. Escribir un pequeño programa donde:\n",
        "\n",
        "    ● Se ingresa el año en curso.\n",
        "    \n",
        "    ● Se ingresa el nombre y el año de nacimiento de tres personas.\n",
        "    \n",
        "    ● Se calcula cuántos años cumplirán durante el año en curso.\n",
        "    \n",
        "    ● Se imprime en pantalla."
      ]
    },
    {
      "cell_type": "code",
      "execution_count": null,
      "metadata": {
        "id": "uXb8ueorbsV0",
        "outputId": "5226f779-ce20-4db4-8c02-b2acdd53df88"
      },
      "outputs": [
        {
          "name": "stdout",
          "output_type": "stream",
          "text": [
            "Introduzca el año actual: 2023\n",
            "Introduzca el nombre de la persona 1: Yailenis\n",
            "Introduzca su año de nacimiento: 1988\n",
            "Introduzca el nombre de la persona 2: Daniel\n",
            "Introduzca su año de nacimiento: 1991\n",
            "Introduzca el nombre de la persona 3: Isabela\n",
            "Introduzca su año de nacimiento: 2018\n",
            "Durante el año en curso Yailenis cumplirá 35 años\n",
            "Durante el año en curso Daniel cumplirá 32 años\n",
            "Durante el año en curso Isabela cumplirá 5 años\n"
          ]
        }
      ],
      "source": [
        "actual_year = int(input(\"Introduzca el año actual: \"))\n",
        "dicc = {}\n",
        "\n",
        "for i in range(3):\n",
        "    name = input(f\"Introduzca el nombre de la persona {i+1}: \")\n",
        "    year = int(input(\"Introduzca su año de nacimiento: \"))\n",
        "    dicc[name] = year\n",
        "\n",
        "for key, value in dicc.items():\n",
        "    print(f\"Durante el año en curso {key} cumplirá {actual_year-value} años\")"
      ]
    },
    {
      "cell_type": "markdown",
      "metadata": {
        "id": "MMjMjBnebsV2"
      },
      "source": [
        "7. Crear una función que tome una lista de dígitos y devuelva al número al que corresponden. Por ejemplo [1,2,3] corresponde a el número ciento veintitrés (123). Utilizar la función reduce."
      ]
    },
    {
      "cell_type": "code",
      "execution_count": 4,
      "metadata": {
        "colab": {
          "base_uri": "https://localhost:8080/"
        },
        "id": "ggk1VdcnbsV3",
        "outputId": "c7dc127a-658b-4efa-a542-b19accac4c48"
      },
      "outputs": [
        {
          "output_type": "stream",
          "name": "stdout",
          "text": [
            "1234567\n"
          ]
        }
      ],
      "source": [
        "from functools import reduce\n",
        "\n",
        "nums = [1,2,3,4,5,6,7]\n",
        "\n",
        "print(reduce(lambda x, y: int(str(x) + str(y)), nums))"
      ]
    },
    {
      "cell_type": "code",
      "execution_count": null,
      "metadata": {
        "id": "AF_7z61qbsV5"
      },
      "outputs": [],
      "source": []
    }
  ],
  "metadata": {
    "kernelspec": {
      "display_name": "Python 3",
      "language": "python",
      "name": "python3"
    },
    "language_info": {
      "codemirror_mode": {
        "name": "ipython",
        "version": 3
      },
      "file_extension": ".py",
      "mimetype": "text/x-python",
      "name": "python",
      "nbconvert_exporter": "python",
      "pygments_lexer": "ipython3",
      "version": "3.8.3"
    },
    "colab": {
      "provenance": []
    }
  },
  "nbformat": 4,
  "nbformat_minor": 0
}