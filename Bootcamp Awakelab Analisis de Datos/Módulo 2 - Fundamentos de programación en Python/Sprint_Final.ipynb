{
  "nbformat": 4,
  "nbformat_minor": 0,
  "metadata": {
    "colab": {
      "provenance": []
    },
    "kernelspec": {
      "name": "python3",
      "display_name": "Python 3"
    },
    "language_info": {
      "name": "python"
    }
  },
  "cells": [
    {
      "cell_type": "code",
      "execution_count": 14,
      "metadata": {
        "colab": {
          "base_uri": "https://localhost:8080/"
        },
        "id": "TFGGgPXQVffU",
        "outputId": "ff0ea06b-618e-40a0-ce70-0167d84bddd2"
      },
      "outputs": [
        {
          "output_type": "stream",
          "name": "stdout",
          "text": [
            "Introduzca la cantidad de patentes a ingresar: 2\n",
            "Introduzca los 3 ultimos numeros de la patente: 678\n",
            "Introduzca los 3 ultimos numeros de la patente: 243\n",
            "Se deben fabricar y reemplazar:\n",
            "\n",
            " 0 placas de color amarillo\n",
            " 1 placas de color cafe\n",
            " 0 placas de color rojo\n",
            " 1 placas de color azul\n",
            " 0 placas de color verde\n"
          ]
        }
      ],
      "source": [
        "cant_patentes = int(input(\"Introduzca la cantidad de patentes a ingresar: \"))\n",
        "patentes_colores = [[1,2],[3,4],[5,6],[7,8],[9,0]]\n",
        "amarillo, cafe, rojo, azul, verde = 0,0,0,0,0\n",
        "\n",
        "for i in range(cant_patentes):\n",
        "  ultimo_numero = int((input(\"Introduzca los 3 ultimos numeros de la patente: \"))[-1])\n",
        "  if ultimo_numero in patentes_colores[0]:\n",
        "    amarillo += 1\n",
        "  elif ultimo_numero in patentes_colores[1]:\n",
        "    cafe += 1\n",
        "  elif ultimo_numero in patentes_colores[2]:\n",
        "    rojo += 1\n",
        "  elif ultimo_numero in patentes_colores[3]:\n",
        "    azul += 1\n",
        "  elif ultimo_numero in patentes_colores[4]:\n",
        "    verde += 1   \n",
        "\n",
        "print(f\"Se deben fabricar y reemplazar:\\n\\n {amarillo} placas de color amarillo\\n {cafe} placas de color cafe\\n {rojo} placas de color rojo\\n {azul} placas de color azul\\n {verde} placas de color verde\") "
      ]
    }
  ]
}