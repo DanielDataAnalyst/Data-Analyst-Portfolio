{
  "nbformat": 4,
  "nbformat_minor": 0,
  "metadata": {
    "colab": {
      "provenance": []
    },
    "kernelspec": {
      "name": "python3",
      "display_name": "Python 3"
    },
    "language_info": {
      "name": "python"
    }
  },
  "cells": [
    {
      "cell_type": "markdown",
      "source": [
        "1. Dada la lista L = [\"almacenar\", 8, \"a\", [1,2,3], True, (0,0,1), 85.7]\n",
        "\n",
        "a. ¿Cuál de estos elementos pertenece a ella?\n",
        "\n",
        "85.7\n",
        "\n",
        "True\n",
        "\n",
        "[(0,0,1)]\n",
        "\n",
        "[1,2,3]\n",
        "\n",
        "0\n",
        "\n",
        "[True]\n",
        "\n",
        "85\n",
        "\n",
        "\"a\"\n",
        "\n",
        "\n"
      ],
      "metadata": {
        "id": "-gG4aAgpkAsP"
      }
    },
    {
      "cell_type": "code",
      "source": [
        "L = [\"almacenar\", 8, \"a\", [1,2,3], True, (0,0,1), 85.7]\n",
        "\n",
        "L1 = (85.7, True, [(0,0,1)], [1,2,3], 0, [True], 85, \"a\")\n",
        "\n",
        "for i in range(len(L1)):\n",
        "  try:\n",
        "    L.index(L1[i])\n",
        "    print(f\"El elemento {L1[i]} se encuentra en la lista L\")\n",
        "  except ValueError:\n",
        "    print(f\"El elemento {L1[i]} NO se encuentra en la lista L\")\n"
      ],
      "metadata": {
        "colab": {
          "base_uri": "https://localhost:8080/"
        },
        "id": "mdqwzYNel6_O",
        "outputId": "69070ed6-14ac-444f-8e5c-386bdc232efb"
      },
      "execution_count": null,
      "outputs": [
        {
          "output_type": "stream",
          "name": "stdout",
          "text": [
            "El elemento 85.7 se encuentra en la lista L\n",
            "El elemento True se encuentra en la lista L\n",
            "El elemento [(0, 0, 1)] NO se encuentra en la lista L\n",
            "El elemento [1, 2, 3] se encuentra en la lista L\n",
            "El elemento 0 NO se encuentra en la lista L\n",
            "El elemento [True] NO se encuentra en la lista L\n",
            "El elemento 85 NO se encuentra en la lista L\n",
            "El elemento a se encuentra en la lista L\n"
          ]
        }
      ]
    },
    {
      "cell_type": "markdown",
      "source": [
        "b. ¿Cómo obtener la posición en que se encuentra el elemento (0,0,1)?"
      ],
      "metadata": {
        "id": "TMyYMZWblt-r"
      }
    },
    {
      "cell_type": "code",
      "source": [
        "print(f\"El elemento (0,0,1) se encuentra en la posicion {L.index((0,0,1))}\")"
      ],
      "metadata": {
        "colab": {
          "base_uri": "https://localhost:8080/"
        },
        "id": "t56HzXz5rTcf",
        "outputId": "ac15b642-a560-48e3-bb3d-d65cc3425cef"
      },
      "execution_count": null,
      "outputs": [
        {
          "output_type": "stream",
          "name": "stdout",
          "text": [
            "El elemento (0,0,1) se encuentra en la posicion 5\n"
          ]
        }
      ]
    },
    {
      "cell_type": "markdown",
      "source": [
        "c. ¿Cómo eliminar el último elemento, independientemente de cuántos elementos haya en la lista?\n"
      ],
      "metadata": {
        "id": "iGFjfH2SrUpC"
      }
    },
    {
      "cell_type": "code",
      "source": [
        "L.pop()\n",
        "L"
      ],
      "metadata": {
        "colab": {
          "base_uri": "https://localhost:8080/"
        },
        "id": "J0wEWMArrZkt",
        "outputId": "18227bb9-f233-42d3-a9d2-182b4b5190a2"
      },
      "execution_count": null,
      "outputs": [
        {
          "output_type": "execute_result",
          "data": {
            "text/plain": [
              "['almacenar', 8, 'a', [1, 2, 3], True, (0, 0, 1)]"
            ]
          },
          "metadata": {},
          "execution_count": 18
        }
      ]
    },
    {
      "cell_type": "markdown",
      "source": [
        "d. Utilizar una operación para contar cuántas veces aparece el string “a”. ¿Cuál será el resultado?"
      ],
      "metadata": {
        "id": "hvx8WdpWrc2k"
      }
    },
    {
      "cell_type": "code",
      "source": [
        "L.count(\"a\")"
      ],
      "metadata": {
        "colab": {
          "base_uri": "https://localhost:8080/"
        },
        "id": "pGROkKejrdqi",
        "outputId": "3321e3d4-5533-4d55-f128-83d60199e4b7"
      },
      "execution_count": null,
      "outputs": [
        {
          "output_type": "execute_result",
          "data": {
            "text/plain": [
              "1"
            ]
          },
          "metadata": {},
          "execution_count": 20
        }
      ]
    },
    {
      "cell_type": "markdown",
      "source": [
        "2. Escribir un programa que pida al usuario una palabra y muestre por pantalla si es un palíndromo.\n",
        "\n"
      ],
      "metadata": {
        "id": "lHo6Bk6nsmpd"
      }
    },
    {
      "cell_type": "code",
      "source": [
        "word = input(\"Introduzca una palabra: \")\n",
        "\n",
        "word.lower()\n",
        "print(f\"La palabra {word} es palindroma\") if word == word[::-1] else print(f\"La palabra {word} NO es palindroma\")"
      ],
      "metadata": {
        "colab": {
          "base_uri": "https://localhost:8080/"
        },
        "id": "Lq3-W8bCsvGU",
        "outputId": "bd23977c-58b1-4ad5-f7bf-69f0097d6f8c"
      },
      "execution_count": null,
      "outputs": [
        {
          "output_type": "stream",
          "name": "stdout",
          "text": [
            "Introduzca una palabra: hbjw\n",
            "La palabra hbjw NO es palindroma\n"
          ]
        }
      ]
    },
    {
      "cell_type": "markdown",
      "source": [
        "3. Escribir un programa que almacene en una lista los números del 1 al 10 y los muestre por pantalla en orden inverso separados por comas."
      ],
      "metadata": {
        "id": "0DdysT93uChv"
      }
    },
    {
      "cell_type": "code",
      "source": [
        "L = [1,2,3,4,5,6,7,8,9,10]\n",
        "L.reverse()\n",
        "print(L)"
      ],
      "metadata": {
        "colab": {
          "base_uri": "https://localhost:8080/"
        },
        "id": "h96h5gh-uHV2",
        "outputId": "2c9f154e-91e4-466e-b5d2-9c86bf789e01"
      },
      "execution_count": 18,
      "outputs": [
        {
          "output_type": "stream",
          "name": "stdout",
          "text": [
            "[10, 9, 8, 7, 6, 5, 4, 3, 2, 1]\n"
          ]
        }
      ]
    },
    {
      "cell_type": "markdown",
      "source": [
        "4. Escribir un programa que almacene las asignaturas de un curso (por ejemplo Matemáticas, Física, Química, Historia y Lengua) en una lista, pregunte al usuario la nota que ha sacado en cada asignatura, y después las muestre por pantalla con el mensaje En \"asignatura\" has sacado \"nota\" donde \"asignatura\" es cada una de las asignaturas de la lista y \"nota\" cada una de las correspondientes notas introducidas por el usuario."
      ],
      "metadata": {
        "id": "qqEyApcrvoPh"
      }
    },
    {
      "cell_type": "code",
      "source": [
        "asignaturas = []\n",
        "notas = []\n",
        "\n",
        "while True:\n",
        "  nombre_asignatura = input(\"Introduzca la asignatura o presiona ENTER para mostrar los resultados: \")\n",
        "  if nombre_asignatura == \"\":\n",
        "    break\n",
        "  asignaturas.append(nombre_asignatura)\n",
        "  notas.append(int(input(\"Introduzca la nota: \")))\n",
        "\n",
        "for asignatura in asignaturas:\n",
        "  for nota in notas:\n",
        "    if notas.index(nota) == asignaturas.index(asignatura):\n",
        "      print(f\"En {asignatura} has sacado {nota} puntos.\")"
      ],
      "metadata": {
        "colab": {
          "base_uri": "https://localhost:8080/"
        },
        "id": "BOfhAeV4vtR_",
        "outputId": "9b34af6f-587f-4a8d-985b-1024ff4b8884"
      },
      "execution_count": 11,
      "outputs": [
        {
          "output_type": "stream",
          "name": "stdout",
          "text": [
            "Introduzca la asignatura o presiona ENTER para mostrar los resultados: Matematica\n",
            "Introduzca la nota: 90\n",
            "Introduzca la asignatura o presiona ENTER para mostrar los resultados: Español\n",
            "Introduzca la nota: 85\n",
            "Introduzca la asignatura o presiona ENTER para mostrar los resultados: \n",
            "En Matematica has sacado 90 puntos.\n",
            "En Español has sacado 85 puntos.\n"
          ]
        }
      ]
    },
    {
      "cell_type": "markdown",
      "source": [
        "5. Escribir un programa que almacene las matrices\n",
        "en una lista y muestre por pantalla su producto.\n",
        "\n",
        "![M2 AE4 ABP Ejercicio.jpg](data:image/jpeg;base64,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)\n",
        "\n",
        "Nota: Para representar matrices mediante listas usar listas anidadas, representando cada vector fila en una lista."
      ],
      "metadata": {
        "id": "uDUIPIn-1JoA"
      }
    },
    {
      "cell_type": "code",
      "source": [
        "A = [[1,2,3],[4,5,6]]\n",
        "B = [[-1,0],[0,1],[1,1]]\n",
        "\n",
        "m, n, p = len(A), len(B), len(B[0])\n",
        "\n",
        "C = []\n",
        "\n",
        "if m == p:\n",
        "  for i in range(m):\n",
        "    C.append([])\n",
        "    for j in range(p):\n",
        "      elemento = 0\n",
        "      for k in range(n):\n",
        "        elemento = elemento + A[i][k] * B[k][j]\n",
        "      C[i].append(elemento)\n",
        "  print(C)\n",
        "else:\n",
        "  print(\"No es posible multiplicar las matrices. El numero de fila de las 1ra debe ser igual al numero de columnas de la segunda\")"
      ],
      "metadata": {
        "id": "n3DdwG2A1Ugm",
        "colab": {
          "base_uri": "https://localhost:8080/"
        },
        "outputId": "845ecbc0-7be9-4d61-b828-1d46db70ce77"
      },
      "execution_count": null,
      "outputs": [
        {
          "output_type": "stream",
          "name": "stdout",
          "text": [
            "[[2, 5], [2, 11]]\n"
          ]
        }
      ]
    },
    {
      "cell_type": "markdown",
      "source": [
        "6. Escribir un programa que guarde en una variable el diccionario {'Euro':'€', 'Dollar':'$', 'Yen':'¥'}, pregunte al usuario por una divisa y muestre su símbolo o un mensaje de aviso si la divisa no está en el diccionario."
      ],
      "metadata": {
        "id": "MeZimw171Qbx"
      }
    },
    {
      "cell_type": "code",
      "source": [
        "dicc_monedas = {'Euro':'€', 'Dollar':'$', 'Yen':'¥'}\n",
        "\n",
        "simbolo = input(\"Introduzca el nombre de la divisa para obtener su simbolo: \")\n",
        "if simbolo.title() in dicc_monedas.keys():\n",
        "  print(dicc_monedas[simbolo.title()])\n",
        "else:\n",
        "  print(f\"La divisa {simbolo} no se encuentra en el diccionario\")\n",
        "\n"
      ],
      "metadata": {
        "id": "FFOkiCtZ1Vqj",
        "colab": {
          "base_uri": "https://localhost:8080/"
        },
        "outputId": "fe5e56e8-804a-4905-da8a-344a6c729647"
      },
      "execution_count": null,
      "outputs": [
        {
          "output_type": "stream",
          "name": "stdout",
          "text": [
            "Introduzca el nombre de la divisa para obtener su simbolo: Peso chileno\n",
            "La divisa Peso chileno no se encuentra en el diccionario\n"
          ]
        }
      ]
    },
    {
      "cell_type": "markdown",
      "source": [
        "7. Escribir un programa que pregunte una fecha en formato dd/mm/aaaa y muestre por pantalla la misma fecha en formato dd de mes de aaaa donde mes es el nombre del mes."
      ],
      "metadata": {
        "id": "Bk_1DvsH1V-i"
      }
    },
    {
      "cell_type": "code",
      "source": [
        "from datetime import datetime\n",
        "\n",
        "meses = ['enero', 'febrero', 'marzo', 'abril', 'mayo', 'junio',\n",
        "         'julio', 'agosto', 'septiembre', 'octubre', 'noviembre', 'diciembre']\n",
        "\n",
        "fecha = datetime.strptime(input(\"Introduza la fecha en formato dd/mm/aaaa:  \"), '%d/%m/%Y')\n",
        "fecha_personalizada = fecha.strftime(f'%d de {meses[fecha.month - 1]} de %Y')\n",
        "print(fecha_personalizada)"
      ],
      "metadata": {
        "id": "gSSqAF9B1ZYP",
        "colab": {
          "base_uri": "https://localhost:8080/"
        },
        "outputId": "b5589935-4c46-4580-d7d0-adc1d0352fa6"
      },
      "execution_count": null,
      "outputs": [
        {
          "output_type": "stream",
          "name": "stdout",
          "text": [
            "Introduza la fecha en formato dd/mm/aaaa:  22/05/1991\n",
            "22 de mayo de 1991\n"
          ]
        }
      ]
    }
  ]
}