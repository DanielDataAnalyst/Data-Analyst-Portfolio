{
  "nbformat": 4,
  "nbformat_minor": 0,
  "metadata": {
    "colab": {
      "provenance": []
    },
    "kernelspec": {
      "name": "python3",
      "display_name": "Python 3"
    },
    "language_info": {
      "name": "python"
    }
  },
  "cells": [
    {
      "cell_type": "markdown",
      "source": [
        "1. Dadas 2 matrices con dimensiones similares, ¿cómo obtener una salida\n",
        "de matriz en la que cada elemento es una suma de elementos de las 2\n",
        "matrices? (solo puede usar numpy como librería, si realiza la matriz\n",
        "con otro paquete el ejercicio no es válido)"
      ],
      "metadata": {
        "id": "d3weLjYg7uRa"
      }
    },
    {
      "cell_type": "code",
      "execution_count": 5,
      "metadata": {
        "colab": {
          "base_uri": "https://localhost:8080/"
        },
        "id": "RBfdQiky6Jx2",
        "outputId": "f57c1849-a701-4dc3-fe63-00cd6e8595e9"
      },
      "outputs": [
        {
          "output_type": "stream",
          "name": "stdout",
          "text": [
            "[[19 23 15]\n",
            " [40 12 68]]\n"
          ]
        }
      ],
      "source": [
        "import numpy as np\n",
        "\n",
        "a = np.array([[5,8,9],[8,7,3]])\n",
        "b = np.array([[14,15,6],[32,5,65]])\n",
        "c = a+b\n",
        "\n",
        "print(c)"
      ]
    },
    {
      "cell_type": "markdown",
      "source": [
        "2. Cree una matriz de identidad de dimensión 4."
      ],
      "metadata": {
        "id": "JuEwLHia70eP"
      }
    },
    {
      "cell_type": "code",
      "source": [
        "identity_4 = np.identity(4)\n",
        "print(identity_4)"
      ],
      "metadata": {
        "colab": {
          "base_uri": "https://localhost:8080/"
        },
        "id": "mvNkwyRR6bKI",
        "outputId": "0b00916b-7df2-47f1-8ca7-89b5b44a83df"
      },
      "execution_count": 8,
      "outputs": [
        {
          "output_type": "stream",
          "name": "stdout",
          "text": [
            "[[1. 0. 0. 0.]\n",
            " [0. 1. 0. 0.]\n",
            " [0. 0. 1. 0.]\n",
            " [0. 0. 0. 1.]]\n"
          ]
        }
      ]
    },
    {
      "cell_type": "markdown",
      "source": [
        "3. Convierte una matriz numpy binaria (que contiene solo 0 y 1) en una\n",
        "matriz numpy booleana."
      ],
      "metadata": {
        "id": "rfhXjsXl8v-3"
      }
    },
    {
      "cell_type": "code",
      "source": [
        "identity_5 = np.identity(5, dtype=bool)\n",
        "print(identity_5)"
      ],
      "metadata": {
        "colab": {
          "base_uri": "https://localhost:8080/"
        },
        "id": "LME_ZQgl9AfX",
        "outputId": "4062ec5f-e702-4857-b6d5-4e782e8a7293"
      },
      "execution_count": 15,
      "outputs": [
        {
          "output_type": "stream",
          "name": "stdout",
          "text": [
            "[[ True False False False False]\n",
            " [False  True False False False]\n",
            " [False False  True False False]\n",
            " [False False False  True False]\n",
            " [False False False False  True]]\n"
          ]
        }
      ]
    },
    {
      "cell_type": "markdown",
      "source": [
        "4. Genere una secuencia de números en forma de matriz numpy de 0 a\n",
        "100 con espacios de 2 números, por ejemplo: 0, 2, 4 ..."
      ],
      "metadata": {
        "id": "8HYJ81h1-8wC"
      }
    },
    {
      "cell_type": "code",
      "source": [
        "np_range = np.arange(0,102,2)\n",
        "print(np_range)"
      ],
      "metadata": {
        "colab": {
          "base_uri": "https://localhost:8080/"
        },
        "id": "4hWdA81U-8Eg",
        "outputId": "bd5f6502-a071-4e26-efa4-75fcac406a07"
      },
      "execution_count": 18,
      "outputs": [
        {
          "output_type": "stream",
          "name": "stdout",
          "text": [
            "[  0   2   4   6   8  10  12  14  16  18  20  22  24  26  28  30  32  34\n",
            "  36  38  40  42  44  46  48  50  52  54  56  58  60  62  64  66  68  70\n",
            "  72  74  76  78  80  82  84  86  88  90  92  94  96  98 100]\n"
          ]
        }
      ]
    }
  ]
}